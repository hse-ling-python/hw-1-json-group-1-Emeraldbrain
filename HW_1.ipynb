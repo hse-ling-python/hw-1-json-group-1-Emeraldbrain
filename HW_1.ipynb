{
 "cells": [
  {
   "cell_type": "code",
   "execution_count": null,
   "metadata": {},
   "outputs": [],
   "source": [
    "import json\n",
    "import re\n",
    "from collections import Counter\n",
    "from string import punctuation"
   ]
  },
  {
   "cell_type": "markdown",
   "metadata": {},
   "source": [
    "Здесь мы выполнили добавление библиотек, которые нам могут пригодиться."
   ]
  },
  {
   "cell_type": "markdown",
   "metadata": {},
   "source": [
    "## Задание 1"
   ]
  },
  {
   "cell_type": "code",
   "execution_count": 31,
   "metadata": {
    "scrolled": true
   },
   "outputs": [
    {
     "name": "stdout",
     "output_type": "stream",
     "text": [
      "Всего в наборе 2556 твитов\n"
     ]
    }
   ],
   "source": [
    "twitter_file = ([json.loads(line) for line in open('hw_3_twitter.json')])\n",
    "print('Всего в наборе',len(twitter_file),'твитов')"
   ]
  },
  {
   "cell_type": "markdown",
   "metadata": {},
   "source": [
    "## Задание 2\n",
    "\n",
    "Для удаленных твитов чуществует специальный тэг - delete.\n",
    "Нужно посчитать количество твитов с этим тэгом и разделить полученное число на количество всех твитов. Ну и умножить на 100, чтобы получить значение в процентах.\n"
   ]
  },
  {
   "cell_type": "code",
   "execution_count": 32,
   "metadata": {},
   "outputs": [
    {
     "name": "stdout",
     "output_type": "stream",
     "text": [
      "Количество удаленых твитов - 14.162754303599375 от всего количества\n"
     ]
    }
   ],
   "source": [
    "num_del = 0\n",
    "for line in twitter_file:\n",
    "    if 'delete' in line:\n",
    "        num_del = num_del+1\n",
    "percent = num_del*100/len(twitter_file)\n",
    "print('Количество удаленых твитов -', percent,'от всего количества')"
   ]
  },
  {
   "cell_type": "markdown",
   "metadata": {},
   "source": [
    "## Задание 3\n",
    "\n",
    "Для языков существует тэг lang.\n",
    "Создадим массив со всеми возможными языками и найдем самые популярные.\n"
   ]
  },
  {
   "cell_type": "code",
   "execution_count": 41,
   "metadata": {
    "scrolled": false
   },
   "outputs": [
    {
     "name": "stdout",
     "output_type": "stream",
     "text": [
      "Самые популярные языки\n",
      "en\n",
      "ja\n",
      "es\n",
      "ko\n",
      "th\n",
      "ar\n",
      "und\n",
      "in\n",
      "pt\n",
      "fr\n"
     ]
    }
   ],
   "source": [
    "languages = []\n",
    "for i in range(len(twitter_file)):\n",
    "    for key, value in twitter_file[i].items():\n",
    "        if key == 'lang':\n",
    "            languages.append(value)\n",
    "lang_count = Counter(languages)\n",
    "top = lang_count.most_common(10)\n",
    "print('Самые популярные языки')\n",
    "for lang in top:\n",
    "    one_of_lang = lang[0]\n",
    "    print(one_of_lang)"
   ]
  },
  {
   "cell_type": "markdown",
   "metadata": {},
   "source": [
    "## Задание 4\n",
    "\n",
    "Создадим массив, куда будет класть пользователей по тэгу id, а потом посчитаем тех, у кого твитов больше одного.\n"
   ]
  },
  {
   "cell_type": "code",
   "execution_count": 49,
   "metadata": {
    "scrolled": true
   },
   "outputs": [
    {
     "name": "stdout",
     "output_type": "stream",
     "text": [
      "У 25 пользователей больше одного твита\n"
     ]
    }
   ],
   "source": [
    "user_ids = []\n",
    "for i in range(len(twitter_file)):\n",
    "    if 'delete' not in twitter_file[i].keys():\n",
    "        user_ids.append(twitter_file[i]['user']['id'])\n",
    "user_count = Counter(user_ids)\n",
    "live_users = 0\n",
    "for key, value in user_count.items():\n",
    "    if value > 1:\n",
    "        live_users = live_users + 1\n",
    "print('У', live_users,'пользователей больше одного твита')"
   ]
  },
  {
   "cell_type": "markdown",
   "metadata": {},
   "source": [
    "## Задание 5\n",
    "\n",
    "Все хэштеги находятся по тэгу entities с ключом hashtags. Создаем массив, куда скидываем все хэштеги, \"распаковываем\" хэштеги, тк это списки словарей. Считаем самые популярные.\n"
   ]
  },
  {
   "cell_type": "code",
   "execution_count": 57,
   "metadata": {
    "scrolled": true
   },
   "outputs": [
    {
     "name": "stdout",
     "output_type": "stream",
     "text": [
      "Самые популярные хэштеги:\n",
      "BTS\n",
      "방탄소년단\n",
      "AMAs\n",
      "人気投票ガチャ\n",
      "태형\n",
      "뷔\n",
      "BTSinChicago\n",
      "BTSLoveYourselfTour\n",
      "오늘의방탄\n",
      "PledgeForSwachhBharat\n",
      "MPN\n",
      "PCAs\n",
      "V\n",
      "시카고1회차공연\n",
      "เป๊กผลิตโชค\n",
      "JIMIN\n",
      "running\n",
      "NCT\n",
      "지민\n",
      "WajahmuPlastik\n"
     ]
    }
   ],
   "source": [
    "hashtags = []\n",
    "for i in range(len(twitter_file)):\n",
    "    if 'delete' not in twitter_file[i].keys():\n",
    "        tags = twitter_file[i]['entities']['hashtags']\n",
    "        hashtags.extend([tags[i]['text']for i in range(len(tags))])\n",
    "tags_count = Counter(hashtags).most_common(20)\n",
    "print('Самые популярные хэштеги:')\n",
    "for tag in tags_count:\n",
    "    one_tag = tag[0]\n",
    "    print(one_tag)"
   ]
  },
  {
   "cell_type": "markdown",
   "metadata": {},
   "source": [
    "## Задание 6\n",
    "\n",
    "Содержимое твита находится в ключе text. Но это содержимое нужно почистить от всего, что не является словом\\предлогом\\союзом\\частицей. Нужно выбрать только те слова, которые написаны в английских твитах.Потом нужно понизить регистр у всех оставшихся символов. Ну и посчитать самые частоупотребляемые слова.\n"
   ]
  },
  {
   "cell_type": "code",
   "execution_count": 58,
   "metadata": {},
   "outputs": [
    {
     "name": "stdout",
     "output_type": "stream",
     "text": [
      "Самые популярные слова:\n",
      "the\n",
      "to\n",
      "a\n",
      "i\n",
      "and\n",
      "is\n",
      "you\n",
      "of\n",
      "for\n",
      "it\n",
      "in\n",
      "that\n",
      "this\n",
      "my\n",
      "me\n",
      "be\n",
      "on\n",
      "are\n",
      "what\n",
      "so\n"
     ]
    }
   ],
   "source": [
    "not_words = '''!\"#$%&\\'-()*+,./:;<=>?@[\\\\]^_`{|}~«»—1234567890…'''\n",
    "words = []\n",
    "for line in twitter_file:\n",
    "    if 'retweeted_status' not in line:\n",
    "        if 'lang' in line:\n",
    "            if line['lang'] == 'en':\n",
    "                word_list = line['text'].lower().split()\n",
    "                for word in word_list:\n",
    "                    good_word = word.strip(not_words)\n",
    "                    if good_word != '':\n",
    "                        words.append(good_word)\n",
    "word_counter = Counter(words).most_common(20)\n",
    "print('Самые популярные слова:')\n",
    "for word in word_counter:\n",
    "    one_word = word[0]\n",
    "    print(one_word)"
   ]
  },
  {
   "cell_type": "markdown",
   "metadata": {},
   "source": [
    "## Задание 7\n",
    "\n",
    "Найдем пользователей по тэгу user, добавим их в словарь с именами, являющимися ключами, и со значением в виде количества фоловеров. Найдем самых популярных авторов твитов.\n"
   ]
  },
  {
   "cell_type": "code",
   "execution_count": 70,
   "metadata": {
    "scrolled": true
   },
   "outputs": [
    {
     "name": "stdout",
     "output_type": "stream",
     "text": [
      "ТОП-10 авторов и количество их подписчиков:\n",
      "Filosofía♕\t2521403\n",
      "FITNESS Magazine\t1491309\n",
      "malaysiakini.com\t1206759\n",
      "NYT Science\t1137374\n",
      "Gramática\t625463\n",
      "TGRT Haber\t392472\n",
      "The Sun Football ⚽\t383698\n",
      "Melbourne, Australia\t374222\n",
      "Roznama Express\t318189\n",
      "💞 ცųཞɠɛཞცơơɠıɛ 💞\t311319\n"
     ]
    }
   ],
   "source": [
    "top_authors = {}\n",
    "for i in range(len(twitter_file)):\n",
    "    if 'delete' not in twitter_file[i].keys():\n",
    "        top_authors[twitter_file[i]['user']['name']] = twitter_file[i]['user']['followers_count']\n",
    "author_count = Counter(top_authors).most_common(10)\n",
    "print('ТОП-10 авторов и количество их подписчиков:')\n",
    "for af in author_count:\n",
    "    auth = af[0]\n",
    "    follower = af[1]\n",
    "    print(auth + '\\t' + str(follower))"
   ]
  },
  {
   "cell_type": "markdown",
   "metadata": {},
   "source": [
    "## Задание 8\n",
    "\n",
    "Приложения, через которые используется твиттер, находятся под тэгом source в виде application. Найдем самые популярные приложения.\n"
   ]
  },
  {
   "cell_type": "code",
   "execution_count": 71,
   "metadata": {},
   "outputs": [
    {
     "name": "stdout",
     "output_type": "stream",
     "text": [
      "Самые популярные приложения для твиттера:\n",
      "Twitter for iPhone\n",
      "Twitter for Android\n",
      "Twitter Web Client\n",
      "twittbot.net\n",
      "Twitter Lite\n",
      "Twitter for iPad\n",
      "TweetDeck\n",
      "Facebook\n",
      "IFTTT\n",
      "تطبيق قرآني\n"
     ]
    }
   ],
   "source": [
    "progs = []\n",
    "for i in range(len(twitter_file)):\n",
    "    if 'delete' not in twitter_file[i].keys():\n",
    "        source = twitter_file[i]['source']\n",
    "        source = re.search(r'>(.+?)</a>', source)\n",
    "        progs.append(source.group(1))\n",
    "progs_count = Counter(progs).most_common(10)\n",
    "print('Самые популярные приложения для твиттера:')\n",
    "for prog in progs_count:\n",
    "    one_prog = prog[0]\n",
    "    print(one_prog)         "
   ]
  },
  {
   "cell_type": "code",
   "execution_count": 72,
   "metadata": {},
   "outputs": [
    {
     "name": "stdout",
     "output_type": "stream",
     "text": [
      "Спасибо за внимание!\n"
     ]
    }
   ],
   "source": [
    "print('Спасибо за внимание!')"
   ]
  },
  {
   "cell_type": "markdown",
   "metadata": {},
   "source": [
    "\n",
    "Задание заботливо выполнено с помощью коллективного ума Кокоревой Светланы, Кудрявцевой Полины, Морозовой Александры, Ореховой Милославы, Синицина Дмитрия.\n"
   ]
  }
 ],
 "metadata": {
  "kernelspec": {
   "display_name": "Python 3",
   "language": "python",
   "name": "python3"
  },
  "language_info": {
   "codemirror_mode": {
    "name": "ipython",
    "version": 3
   },
   "file_extension": ".py",
   "mimetype": "text/x-python",
   "name": "python",
   "nbconvert_exporter": "python",
   "pygments_lexer": "ipython3",
   "version": "3.7.3"
  }
 },
 "nbformat": 4,
 "nbformat_minor": 2
}
